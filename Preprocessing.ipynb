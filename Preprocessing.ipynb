{
 "cells": [
  {
   "cell_type": "code",
   "execution_count": 4,
   "metadata": {},
   "outputs": [],
   "source": [
    "import pandas as pd\n",
    "import html\n",
    "import re\n",
    "import string"
   ]
  },
  {
   "cell_type": "code",
   "execution_count": 24,
   "metadata": {},
   "outputs": [],
   "source": [
    "d = pd.read_csv(\"2018-E-c-En-train.txt\",sep=\"\\t\")\n",
    "d = d.drop(['ID'],axis=1)\n",
    "\n",
    "emojis = {}\n",
    "with open('data/emojilist5.csv', 'r') as f:\n",
    "    for line in f:\n",
    "        unic=line.split(',')[0].lower()\n",
    "        trans=line.split(',')[1]\n",
    "        emojis[unic]=trans\n",
    "        \n",
    "def emojify(text, emojis):\n",
    "    text = str(text.encode('unicode-escape'))[2:-1]\n",
    "    if '\\\\u' in text.lower():\n",
    "        text = text.replace('\\\\\\\\U' , '\\\\\\\\u')\n",
    "        text = text.replace('\\\\\\\\u' , ' \\\\\\\\u')\n",
    "        words = text.split(' ')\n",
    "        for word in words:\n",
    "            if '\\\\u' in word:\n",
    "                if word in emojis.keys():\n",
    "                    words[words.index(word)] = emojis[word]\n",
    "                elif word[0:11] in emojis:\n",
    "                    word_1 = word[11:len(word)]\n",
    "                    words[words.index(word)] = emojis[word[0:11]] + ' ' + word_1\n",
    "                elif word[0:7] in emojis:\n",
    "                    word_1 = word[7:len(word)]\n",
    "                    words[words.index(word)] = emojis[word[0:7]] + ' ' + word_1\n",
    "        return ' '.join(words)\n",
    "    return text\n",
    "\n",
    "def removeXA0(Tweet):\n",
    "    return Tweet.replace(u'\\xa0', u' ')\n",
    "def removeLineFeed(Tweet):\n",
    "    return Tweet.replace(u'\\\\n',u' ')\n",
    "def removeCarriageReturn(Tweet):\n",
    "    return Tweet.replace(u'\\\\r',u' ')\n",
    "def removeCitation(Tweet):\n",
    "    return re.sub(r\"(?:@[A-Za-z0-9_]+)\",\"\",Tweet)\n",
    "def removeAmp(Tweet):\n",
    "    return Tweet.replace(\"&amp;\",\"\")\n",
    "def removeSpecialCharacters(Tweet):\n",
    "    whitelist = string.digits + \"'\" + string.ascii_letters + ' ' + '_'\n",
    "    return ''.join(c for c in Tweet if c in whitelist)\n",
    "def removeNumbersNotInsideCharacters(Tweet):\n",
    "    return ' '.join(c for c in Tweet.split(\" \") if not c.isnumeric())\n",
    "def executePreProcessing():\n",
    "    d.Tweet = d.Tweet.apply(removeXA0)\n",
    "    d.Tweet = d.Tweet.apply(removeLineFeed)\n",
    "    d.Tweet = d.Tweet.apply(removeCarriageReturn)\n",
    "    d.Tweet = d.Tweet.apply(removeCitation)\n",
    "    d.Tweet = d.Tweet.apply(removeAmp)\n",
    "    d.Tweet = d.Tweet.apply(emojify, args=(emojis,))\n",
    "    d.Tweet = d.Tweet.apply(removeSpecialCharacters)\n",
    "    d.Tweet = d.Tweet.apply(removeNumbersNotInsideCharacters)\n",
    "executePreProcessing()"
   ]
  },
  {
   "cell_type": "markdown",
   "metadata": {},
   "source": [
    "Replace emojis with text translations given in emoji list (emojis: dictionary of translated emojis). Will probably add some extra slash characters so other processing steps can be done after this one. "
   ]
  },
  {
   "cell_type": "code",
   "execution_count": 13,
   "metadata": {},
   "outputs": [],
   "source": []
  },
  {
   "cell_type": "code",
   "execution_count": 14,
   "metadata": {},
   "outputs": [],
   "source": [
    "\n"
   ]
  },
  {
   "cell_type": "markdown",
   "metadata": {},
   "source": [
    "### There is no in the train dataset:\n",
    " - HTML tags\n",
    " - URLs\n",
    " - \\t"
   ]
  },
  {
   "cell_type": "code",
   "execution_count": 28,
   "metadata": {
    "scrolled": true
   },
   "outputs": [
    {
     "data": {
      "text/plain": [
       "'india will take revenge  by making new movies like phantom and they will be like ghus_k_maren_ge this is how indian army take revenge'"
      ]
     },
     "execution_count": 28,
     "metadata": {},
     "output_type": "execute_result"
    }
   ],
   "source": [
    "d.iloc[259].Tweet"
   ]
  }
 ],
 "metadata": {
  "kernelspec": {
   "display_name": "Python 3",
   "language": "python",
   "name": "python3"
  },
  "language_info": {
   "codemirror_mode": {
    "name": "ipython",
    "version": 3
   },
   "file_extension": ".py",
   "mimetype": "text/x-python",
   "name": "python",
   "nbconvert_exporter": "python",
   "pygments_lexer": "ipython3",
   "version": "3.7.1"
  }
 },
 "nbformat": 4,
 "nbformat_minor": 2
}
