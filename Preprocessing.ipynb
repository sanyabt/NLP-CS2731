{
 "cells": [
  {
   "cell_type": "code",
   "execution_count": 18,
   "metadata": {},
   "outputs": [],
   "source": [
    "import pandas as pd\n",
    "import html\n",
    "import re\n",
    "import string"
   ]
  },
  {
   "cell_type": "code",
   "execution_count": 115,
   "metadata": {},
   "outputs": [],
   "source": [
    "d = pd.read_csv(\"2018-E-c-En-train.txt\",sep=\"\\t\")\n",
    "d = d.drop(['ID'],axis=1)\n",
    "def removeXA0(Tweet):\n",
    "    return Tweet.replace(u'\\xa0', u' ')\n",
    "def removeLineFeed(Tweet):\n",
    "    return Tweet.replace(u'\\\\n',u' ')\n",
    "def removeCarriageReturn(Tweet):\n",
    "    return Tweet.replace(u'\\\\r',u' ')\n",
    "def removeCitation(Tweet):\n",
    "    return re.sub(r\"(?:@[A-Za-z0-9_]+)\",\"\",Tweet)\n",
    "def deEmojify(Tweet):\n",
    "    return Tweet.encode('ascii', 'ignore').decode('ascii')\n",
    "def removeAmp(Tweet):\n",
    "    return Tweet.replace(\"&amp;\",\"\")\n",
    "def removeSpecialCharacters(Tweet):\n",
    "    whitelist = string.digits + \"'\" + string.ascii_letters + ' '\n",
    "    return ''.join(c for c in Tweet if c in whitelist)\n",
    "def removeNumbersNotInsideCharacters(Tweet):\n",
    "    return ' '.join(c for c in Tweet.split(\" \") if not c.isnumeric())\n",
    "def executePreProcessing():\n",
    "    d.Tweet = d.Tweet.apply(removeXA0)\n",
    "    d.Tweet = d.Tweet.apply(removeLineFeed)\n",
    "    d.Tweet = d.Tweet.apply(removeCarriageReturn)\n",
    "    d.Tweet = d.Tweet.apply(removeCitation)\n",
    "    d.Tweet = d.Tweet.apply(deEmojify)\n",
    "    d.Tweet = d.Tweet.apply(removeAmp)\n",
    "    d.Tweet = d.Tweet.apply(removeSpecialCharacters)\n",
    "    d.Tweet = d.Tweet.apply(removeNumbersNotInsideCharacters)"
   ]
  },
  {
   "cell_type": "markdown",
   "metadata": {},
   "source": [
    "### There is no in the train dataset:\n",
    " - HTML tags\n",
    " - URLs\n",
    " - \\t"
   ]
  },
  {
   "cell_type": "code",
   "execution_count": 117,
   "metadata": {},
   "outputs": [],
   "source": [
    "executePreProcessing()"
   ]
  },
  {
   "cell_type": "code",
   "execution_count": null,
   "metadata": {},
   "outputs": [],
   "source": [
    "d"
   ]
  }
 ],
 "metadata": {
  "kernelspec": {
   "display_name": "Python 3",
   "language": "python",
   "name": "python3"
  },
  "language_info": {
   "codemirror_mode": {
    "name": "ipython",
    "version": 3
   },
   "file_extension": ".py",
   "mimetype": "text/x-python",
   "name": "python",
   "nbconvert_exporter": "python",
   "pygments_lexer": "ipython3",
   "version": "3.7.1"
  }
 },
 "nbformat": 4,
 "nbformat_minor": 2
}
