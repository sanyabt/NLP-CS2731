{
 "cells": [
  {
   "cell_type": "code",
   "execution_count": 5,
   "metadata": {},
   "outputs": [],
   "source": [
    "import pandas as pd\n",
    "import numpy as np\n",
    "from sklearn.ensemble import RandomForestClassifier\n",
    "from sklearn.pipeline import Pipeline\n",
    "from sklearn.feature_extraction.text import CountVectorizer\n",
    "from sklearn.feature_extraction.text import TfidfVectorizer\n",
    "from sklearn.multiclass import OneVsRestClassifier\n",
    "from sklearn.preprocessing import OneHotEncoder\n",
    "import matplotlib.pyplot as plt"
   ]
  },
  {
   "cell_type": "code",
   "execution_count": 6,
   "metadata": {},
   "outputs": [],
   "source": [
    "def get_vocab(vectorizer):\n",
    "    return rectorizer.vocabulary_"
   ]
  },
  {
   "cell_type": "code",
   "execution_count": 7,
   "metadata": {},
   "outputs": [],
   "source": [
    "RF_pipeline = Pipeline([('rf', OneVsRestClassifier(RandomForestClassifier(n_estimators = 300,\n",
    "                                                                        max_depth = 5,\n",
    "                                                                       random_state = 0))),])\n"
   ]
  },
  {
   "cell_type": "code",
   "execution_count": 8,
   "metadata": {},
   "outputs": [],
   "source": [
    "def get_forest(pipeline, X, y):\n",
    "    pipeline.fit(X,y)\n",
    "    forest = RF_pipeline.named_steps['rf'].estimators_[0].estimators_ \n",
    "    return forest\n"
   ]
  },
  {
   "cell_type": "code",
   "execution_count": 9,
   "metadata": {},
   "outputs": [],
   "source": [
    "def get_all_features(forest):\n",
    "    all_important_features = set()\n",
    "    for tree in forest:\n",
    "        f_importance = np.array(tree.feature_importances_)\n",
    "        # sorted indices\n",
    "        sort_f_indices = sorted(range(len(f_importance)), key = lambda k: f_importance[k], reverse = True)\n",
    "        sort_f_importance = f_importance[sort_f_indices]\n",
    "        # non_zero importance\n",
    "        non_zero_sort_f_importance = [x for x in sort_f_importance if x]\n",
    "        non_zero_sort_f_indices = sort_f_indices[:len(non_zero_sort_f_importance)]\n",
    "        for i in non_zero_sort_f_indices:\n",
    "            feature = vocab[i]\n",
    "            all_important_features.add(feature)\n",
    "    return all_important_features"
   ]
  },
  {
   "cell_type": "code",
   "execution_count": null,
   "metadata": {},
   "outputs": [],
   "source": []
  }
 ],
 "metadata": {
  "kernelspec": {
   "display_name": "Python 3",
   "language": "python",
   "name": "python3"
  },
  "language_info": {
   "codemirror_mode": {
    "name": "ipython",
    "version": 3
   },
   "file_extension": ".py",
   "mimetype": "text/x-python",
   "name": "python",
   "nbconvert_exporter": "python",
   "pygments_lexer": "ipython3",
   "version": "3.6.8"
  }
 },
 "nbformat": 4,
 "nbformat_minor": 2
}
