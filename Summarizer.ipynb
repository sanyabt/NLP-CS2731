{
 "cells": [
  {
   "cell_type": "code",
   "execution_count": 1,
   "metadata": {},
   "outputs": [],
   "source": [
    "import numpy as np\n",
    "import pandas as pd\n",
    "from gensim.summarization.summarizer import summarize\n",
    "from pytextrank import json_iter, parse_doc, pretty_print\n",
    "from rouge import Rouge\n",
    "from nltk.tokenize import sent_tokenize\n",
    "from nltk.corpus import stopwords\n",
    "import re\n",
    "import os\n",
    "stop_words = stopwords.words('english')\n",
    "from sklearn.metrics.pairwise import cosine_similarity\n",
    "import networkx as nx\n",
    "import seaborn as sns\n",
    "import matplotlib.pyplot as plt"
   ]
  },
  {
   "cell_type": "code",
   "execution_count": 2,
   "metadata": {},
   "outputs": [],
   "source": [
    "class Grouping():\n",
    "\n",
    "    def __init__(self):\n",
    "        self.groups = {}\n",
    "    \n",
    "    def addTweetsToGroups(self):\n",
    "        data = pd.read_csv(\"postProcessedText.csv\")\n",
    "        for col in data.columns[1:]:\n",
    "            self.groups[col] = []\n",
    "            for _ , row in data.loc[data[col] == 1].iterrows():\n",
    "               self.groups[col].append(row.Tweet)\n",
    "        \n",
    "def remove_stopwords(sen):\n",
    "    sen_new = \" \".join([i for i in sen if i not in stop_words])\n",
    "    return sen_new\n",
    "\n",
    "def read_glove():\n",
    "    word_embeddings = {}\n",
    "    f = open(os.path.abspath(os.path.join(\"glove\",\"glove.6B.300d.txt\")),encoding = 'utf-8')\n",
    "    for line in f:\n",
    "        values = line.split()\n",
    "        word = values[0]\n",
    "        coefs = np.asarray(values[1:], dtype='float32')\n",
    "        word_embeddings[word] = coefs\n",
    "    f.close()\n",
    "    return word_embeddings\n",
    "\n",
    "def create_csv_with_given_group(group_name, vect):\n",
    "    csv = os.path.abspath(os.path.join(\"ranked_tweets_by_group\",group_name + \".csv\"))\n",
    "    f = open(csv,\"w+\")\n",
    "    f.write(\"rank,Tweet\")\n",
    "    f.write(\"\\n\")\n",
    "    for i in vect:\n",
    "        f.write(str(i[0])+\",\"+i[1])\n",
    "        f.write(\"\\n\")\n",
    "    f.close()\n",
    "\n",
    "def sort_Tweets_by_rank(dic, group_name, word_embeddings):\n",
    "    reference = dic.groups[group_name]\n",
    "    clean_sentences = [s.lower() for s in reference]\n",
    "    clean_sentences = [remove_stopwords(r.split()) for r in clean_sentences]\n",
    "    sentence_vectors = []\n",
    "    for i in clean_sentences:\n",
    "        if len(i) != 0:\n",
    "            v = sum([word_embeddings.get(w, np.zeros((300,))) for w in i.split()])/(len(i.split())+0.001)\n",
    "        else:\n",
    "            v = np.zeros((300,))\n",
    "        sentence_vectors.append(v)\n",
    "    sim_mat = np.zeros([len(reference), len(reference)])\n",
    "    for i in range(len(reference)):\n",
    "        for j in range(len(reference)):\n",
    "            if i != j:\n",
    "                sim_mat[i][j] = cosine_similarity(sentence_vectors[i].reshape(1,300), sentence_vectors[j].reshape(1,300))[0,0]\n",
    "    nx_graph = nx.from_numpy_array(sim_mat)\n",
    "    scores = nx.pagerank(nx_graph)\n",
    "    return sorted(((scores[i],s) for i,s in enumerate(reference)), reverse=True)"
   ]
  },
  {
   "cell_type": "code",
   "execution_count": null,
   "metadata": {},
   "outputs": [],
   "source": [
    "word_embeddings = read_glove()\n",
    "g = Grouping()\n",
    "g.addTweetsToGroups()"
   ]
  },
  {
   "cell_type": "code",
   "execution_count": null,
   "metadata": {},
   "outputs": [],
   "source": [
    "names = [\"anger\",\"anticipation\",\"love\",\"sadness\"]\n",
    "for group_name in names:\n",
    "    v = sort_Tweets_by_rank(g, group_name, word_embeddings)\n",
    "    create_csv_with_given_group(group_name, v)\n",
    "    print(\"Done: \" + group_name)"
   ]
  },
  {
   "cell_type": "code",
   "execution_count": null,
   "metadata": {},
   "outputs": [],
   "source": []
  }
 ],
 "metadata": {
  "kernelspec": {
   "display_name": "Python 3",
   "language": "python",
   "name": "python3"
  },
  "language_info": {
   "codemirror_mode": {
    "name": "ipython",
    "version": 3
   },
   "file_extension": ".py",
   "mimetype": "text/x-python",
   "name": "python",
   "nbconvert_exporter": "python",
   "pygments_lexer": "ipython3",
   "version": "3.6.7"
  }
 },
 "nbformat": 4,
 "nbformat_minor": 2
}
