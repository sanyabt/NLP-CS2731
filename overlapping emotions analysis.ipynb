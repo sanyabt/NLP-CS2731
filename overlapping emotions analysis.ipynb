{
 "cells": [
  {
   "cell_type": "code",
   "execution_count": 1,
   "metadata": {},
   "outputs": [],
   "source": [
    "import pandas as pd\n",
    "import numpy as np\n",
    "import matplotlib.pyplot as plt\n",
    "plt.style.use('fivethirtyeight')\n",
    "\n",
    "%matplotlib inline"
   ]
  },
  {
   "cell_type": "code",
   "execution_count": 36,
   "metadata": {},
   "outputs": [
    {
     "data": {
      "text/html": [
       "<div>\n",
       "<style scoped>\n",
       "    .dataframe tbody tr th:only-of-type {\n",
       "        vertical-align: middle;\n",
       "    }\n",
       "\n",
       "    .dataframe tbody tr th {\n",
       "        vertical-align: top;\n",
       "    }\n",
       "\n",
       "    .dataframe thead th {\n",
       "        text-align: right;\n",
       "    }\n",
       "</style>\n",
       "<table border=\"1\" class=\"dataframe\">\n",
       "  <thead>\n",
       "    <tr style=\"text-align: right;\">\n",
       "      <th></th>\n",
       "      <th>Unnamed: 0</th>\n",
       "      <th>anger</th>\n",
       "      <th>anticipation</th>\n",
       "      <th>disgust</th>\n",
       "      <th>fear</th>\n",
       "      <th>joy</th>\n",
       "      <th>love</th>\n",
       "      <th>optimism</th>\n",
       "      <th>pessimism</th>\n",
       "      <th>sadness</th>\n",
       "      <th>surprise</th>\n",
       "      <th>trust</th>\n",
       "    </tr>\n",
       "  </thead>\n",
       "  <tbody>\n",
       "    <tr>\n",
       "      <th>0</th>\n",
       "      <td>100</td>\n",
       "      <td>0</td>\n",
       "      <td>0</td>\n",
       "      <td>0</td>\n",
       "      <td>2</td>\n",
       "      <td>0</td>\n",
       "      <td>0</td>\n",
       "      <td>0</td>\n",
       "      <td>0</td>\n",
       "      <td>0</td>\n",
       "      <td>0</td>\n",
       "      <td>0</td>\n",
       "    </tr>\n",
       "    <tr>\n",
       "      <th>1</th>\n",
       "      <td>1000s</td>\n",
       "      <td>0</td>\n",
       "      <td>1</td>\n",
       "      <td>1</td>\n",
       "      <td>0</td>\n",
       "      <td>0</td>\n",
       "      <td>0</td>\n",
       "      <td>0</td>\n",
       "      <td>0</td>\n",
       "      <td>1</td>\n",
       "      <td>0</td>\n",
       "      <td>0</td>\n",
       "    </tr>\n",
       "    <tr>\n",
       "      <th>2</th>\n",
       "      <td>100k</td>\n",
       "      <td>2</td>\n",
       "      <td>0</td>\n",
       "      <td>2</td>\n",
       "      <td>1</td>\n",
       "      <td>0</td>\n",
       "      <td>0</td>\n",
       "      <td>0</td>\n",
       "      <td>1</td>\n",
       "      <td>2</td>\n",
       "      <td>0</td>\n",
       "      <td>0</td>\n",
       "    </tr>\n",
       "    <tr>\n",
       "      <th>3</th>\n",
       "      <td>10golds24</td>\n",
       "      <td>0</td>\n",
       "      <td>1</td>\n",
       "      <td>0</td>\n",
       "      <td>0</td>\n",
       "      <td>0</td>\n",
       "      <td>0</td>\n",
       "      <td>0</td>\n",
       "      <td>0</td>\n",
       "      <td>0</td>\n",
       "      <td>0</td>\n",
       "      <td>0</td>\n",
       "    </tr>\n",
       "    <tr>\n",
       "      <th>4</th>\n",
       "      <td>10pm</td>\n",
       "      <td>2</td>\n",
       "      <td>0</td>\n",
       "      <td>1</td>\n",
       "      <td>0</td>\n",
       "      <td>0</td>\n",
       "      <td>0</td>\n",
       "      <td>0</td>\n",
       "      <td>0</td>\n",
       "      <td>1</td>\n",
       "      <td>1</td>\n",
       "      <td>0</td>\n",
       "    </tr>\n",
       "  </tbody>\n",
       "</table>\n",
       "</div>"
      ],
      "text/plain": [
       "  Unnamed: 0  anger  anticipation  disgust  fear  joy  love  optimism  \\\n",
       "0        100      0             0        0     2    0     0         0   \n",
       "1      1000s      0             1        1     0    0     0         0   \n",
       "2       100k      2             0        2     1    0     0         0   \n",
       "3  10golds24      0             1        0     0    0     0         0   \n",
       "4       10pm      2             0        1     0    0     0         0   \n",
       "\n",
       "   pessimism  sadness  surprise  trust  \n",
       "0          0        0         0      0  \n",
       "1          0        1         0      0  \n",
       "2          1        2         0      0  \n",
       "3          0        0         0      0  \n",
       "4          0        1         1      0  "
      ]
     },
     "execution_count": 36,
     "metadata": {},
     "output_type": "execute_result"
    }
   ],
   "source": [
    "term_freq_df = pd.read_csv('lexicon/term_freq_df_summary.csv')\n",
    "term_freq_df.head()"
   ]
  },
  {
   "cell_type": "code",
   "execution_count": 37,
   "metadata": {},
   "outputs": [
    {
     "name": "stdout",
     "output_type": "stream",
     "text": [
      "<class 'pandas.core.frame.DataFrame'>\n",
      "RangeIndex: 7846 entries, 0 to 7845\n",
      "Data columns (total 12 columns):\n",
      "Unnamed: 0      7846 non-null object\n",
      "anger           7846 non-null int64\n",
      "anticipation    7846 non-null int64\n",
      "disgust         7846 non-null int64\n",
      "fear            7846 non-null int64\n",
      "joy             7846 non-null int64\n",
      "love            7846 non-null int64\n",
      "optimism        7846 non-null int64\n",
      "pessimism       7846 non-null int64\n",
      "sadness         7846 non-null int64\n",
      "surprise        7846 non-null int64\n",
      "trust           7846 non-null int64\n",
      "dtypes: int64(11), object(1)\n",
      "memory usage: 735.6+ KB\n"
     ]
    }
   ],
   "source": [
    "term_freq_df.info()"
   ]
  },
  {
   "cell_type": "code",
   "execution_count": 38,
   "metadata": {},
   "outputs": [],
   "source": [
    "emotions = ['anger', 'anticipation', 'disgust', 'fear', 'joy', 'love', 'optimism', 'pessimism', 'sadness', 'surprise', 'trust']\n",
    "emotion_lists = {'anger': [],\n",
    "         'anticipation':[],\n",
    "         'disgust':[],\n",
    "         'fear':[],\n",
    "         'joy':[],\n",
    "         'love':[],\n",
    "         'optimism':[],\n",
    "         'pessimism':[],\n",
    "         'sadness':[],\n",
    "         'surprise':[],\n",
    "         'trust':[]}\n",
    "for emotion in emotions:\n",
    "    emotion_lists[emotion] = term_freq_df.sort_values(by=emotion, ascending=False)[emotion][:50].index"
   ]
  },
  {
   "cell_type": "code",
   "execution_count": 28,
   "metadata": {},
   "outputs": [],
   "source": [
    "anger = term_freq_df.sort_values(by='anger', ascending=False)['anger'][:50].index\n"
   ]
  },
  {
   "cell_type": "code",
   "execution_count": 39,
   "metadata": {},
   "outputs": [],
   "source": [
    "top_50 = {'anger': [],\n",
    "         'anticipation':[],\n",
    "         'disgust':[],\n",
    "         'fear':[],\n",
    "         'joy':[],\n",
    "         'love':[],\n",
    "         'optimism':[],\n",
    "         'pessimism':[],\n",
    "         'sadness':[],\n",
    "         'surprise':[],\n",
    "         'trust':[]}"
   ]
  },
  {
   "cell_type": "code",
   "execution_count": 40,
   "metadata": {},
   "outputs": [
    {
     "data": {
      "text/plain": [
       "11"
      ]
     },
     "execution_count": 40,
     "metadata": {},
     "output_type": "execute_result"
    }
   ],
   "source": [
    "for key in emotion_lists:\n",
    "    for item in emotion_lists[key]:\n",
    "        top_50[key].append(term_freq_df.iloc[item][0])\n",
    "len(top_50)"
   ]
  },
  {
   "cell_type": "code",
   "execution_count": 41,
   "metadata": {},
   "outputs": [],
   "source": [
    "import pickle\n",
    "with open('top_50_tokens.pickle', 'wb') as file_o:\n",
    "    pickle.dump(top_50, file_o)"
   ]
  },
  {
   "cell_type": "code",
   "execution_count": 48,
   "metadata": {},
   "outputs": [
    {
     "data": {
      "text/plain": [
       "['love',\n",
       " 'happy',\n",
       " '_emoj_heart_',\n",
       " 'smile',\n",
       " 'day',\n",
       " 'good',\n",
       " 'one',\n",
       " 'get',\n",
       " 'always',\n",
       " 'like',\n",
       " 'much',\n",
       " 'time',\n",
       " 'new',\n",
       " 'life',\n",
       " 'great',\n",
       " 'laughter',\n",
       " 'make',\n",
       " 'today',\n",
       " 'thank',\n",
       " 'want',\n",
       " 'birthday',\n",
       " 'go',\n",
       " 'feel',\n",
       " 'way',\n",
       " 'smiling',\n",
       " 'got',\n",
       " 'something',\n",
       " 'let',\n",
       " 'see',\n",
       " 'ufe0f',\n",
       " 'give',\n",
       " 'fun',\n",
       " 'know',\n",
       " 'best',\n",
       " 'night',\n",
       " 'really',\n",
       " '_emoj_heart_eyes_',\n",
       " 'us',\n",
       " 'everyone',\n",
       " 'hope',\n",
       " 'never',\n",
       " 'makes',\n",
       " 'show',\n",
       " 'laugh',\n",
       " 'someone',\n",
       " 'hilarious',\n",
       " 'cheerful',\n",
       " 'keep',\n",
       " '_emoj_joy_',\n",
       " 'little']"
      ]
     },
     "execution_count": 48,
     "metadata": {},
     "output_type": "execute_result"
    }
   ],
   "source": [
    "top_50['love']"
   ]
  },
  {
   "cell_type": "code",
   "execution_count": 42,
   "metadata": {},
   "outputs": [
    {
     "data": {
      "text/html": [
       "<div>\n",
       "<style scoped>\n",
       "    .dataframe tbody tr th:only-of-type {\n",
       "        vertical-align: middle;\n",
       "    }\n",
       "\n",
       "    .dataframe tbody tr th {\n",
       "        vertical-align: top;\n",
       "    }\n",
       "\n",
       "    .dataframe thead th {\n",
       "        text-align: right;\n",
       "    }\n",
       "</style>\n",
       "<table border=\"1\" class=\"dataframe\">\n",
       "  <thead>\n",
       "    <tr style=\"text-align: right;\">\n",
       "      <th></th>\n",
       "      <th>Tweet</th>\n",
       "      <th>anger</th>\n",
       "      <th>anticipation</th>\n",
       "      <th>disgust</th>\n",
       "      <th>fear</th>\n",
       "      <th>joy</th>\n",
       "      <th>love</th>\n",
       "      <th>optimism</th>\n",
       "      <th>pessimism</th>\n",
       "      <th>sadness</th>\n",
       "      <th>surprise</th>\n",
       "      <th>trust</th>\n",
       "    </tr>\n",
       "  </thead>\n",
       "  <tbody>\n",
       "    <tr>\n",
       "      <th>0</th>\n",
       "      <td>don't be shy their great people  _emoj...</td>\n",
       "      <td>0</td>\n",
       "      <td>0</td>\n",
       "      <td>0</td>\n",
       "      <td>0</td>\n",
       "      <td>0</td>\n",
       "      <td>1</td>\n",
       "      <td>1</td>\n",
       "      <td>0</td>\n",
       "      <td>0</td>\n",
       "      <td>0</td>\n",
       "      <td>0</td>\n",
       "    </tr>\n",
       "    <tr>\n",
       "      <th>1</th>\n",
       "      <td>Bahahahaha Dean looks hilarious and dam...</td>\n",
       "      <td>0</td>\n",
       "      <td>0</td>\n",
       "      <td>0</td>\n",
       "      <td>0</td>\n",
       "      <td>0</td>\n",
       "      <td>1</td>\n",
       "      <td>0</td>\n",
       "      <td>0</td>\n",
       "      <td>0</td>\n",
       "      <td>1</td>\n",
       "      <td>0</td>\n",
       "    </tr>\n",
       "    <tr>\n",
       "      <th>2</th>\n",
       "      <td>I have never been more anxious of a elec...</td>\n",
       "      <td>0</td>\n",
       "      <td>0</td>\n",
       "      <td>0</td>\n",
       "      <td>1</td>\n",
       "      <td>0</td>\n",
       "      <td>0</td>\n",
       "      <td>0</td>\n",
       "      <td>0</td>\n",
       "      <td>0</td>\n",
       "      <td>0</td>\n",
       "      <td>0</td>\n",
       "    </tr>\n",
       "    <tr>\n",
       "      <th>3</th>\n",
       "      <td>I have never been more anxious of a elec...</td>\n",
       "      <td>0</td>\n",
       "      <td>0</td>\n",
       "      <td>0</td>\n",
       "      <td>1</td>\n",
       "      <td>0</td>\n",
       "      <td>0</td>\n",
       "      <td>0</td>\n",
       "      <td>0</td>\n",
       "      <td>0</td>\n",
       "      <td>0</td>\n",
       "      <td>0</td>\n",
       "    </tr>\n",
       "    <tr>\n",
       "      <th>4</th>\n",
       "      <td>to give me my keys back They aren't for ...</td>\n",
       "      <td>1</td>\n",
       "      <td>1</td>\n",
       "      <td>0</td>\n",
       "      <td>0</td>\n",
       "      <td>0</td>\n",
       "      <td>0</td>\n",
       "      <td>0</td>\n",
       "      <td>0</td>\n",
       "      <td>0</td>\n",
       "      <td>0</td>\n",
       "      <td>0</td>\n",
       "    </tr>\n",
       "  </tbody>\n",
       "</table>\n",
       "</div>"
      ],
      "text/plain": [
       "                                               Tweet  anger  anticipation  \\\n",
       "0          don't be shy their great people  _emoj...      0             0   \n",
       "1         Bahahahaha Dean looks hilarious and dam...      0             0   \n",
       "2        I have never been more anxious of a elec...      0             0   \n",
       "3        I have never been more anxious of a elec...      0             0   \n",
       "4        to give me my keys back They aren't for ...      1             1   \n",
       "\n",
       "   disgust  fear  joy  love  optimism  pessimism  sadness  surprise  trust  \n",
       "0        0     0    0     1         1          0        0         0      0  \n",
       "1        0     0    0     1         0          0        0         1      0  \n",
       "2        0     1    0     0         0          0        0         0      0  \n",
       "3        0     1    0     0         0          0        0         0      0  \n",
       "4        0     0    0     0         0          0        0         0      0  "
      ]
     },
     "execution_count": 42,
     "metadata": {},
     "output_type": "execute_result"
    }
   ],
   "source": [
    "df = pd.read_csv('data/summarized_50_percent.csv')\n",
    "df.head()"
   ]
  },
  {
   "cell_type": "code",
   "execution_count": 49,
   "metadata": {},
   "outputs": [],
   "source": [
    "\n",
    "df_anger = pd.read_csv(\"ranked_tweets_by_group/anger1.csv\")\n",
    "df_antic = pd.read_csv(\"ranked_tweets_by_group/anticipation1.csv\")\n",
    "df_disgust = pd.read_csv(\"ranked_tweets_by_group/disgust1.csv\")\n",
    "df_fear = pd.read_csv(\"ranked_tweets_by_group/fear1.csv\")\n",
    "df_joy = pd.read_csv(\"ranked_tweets_by_group/joy1.csv\")\n",
    "df_love = pd.read_csv(\"ranked_tweets_by_group/love1.csv\")\n",
    "df_optimism = pd.read_csv(\"ranked_tweets_by_group/optimism1.csv\")\n",
    "df_pessimism = pd.read_csv(\"ranked_tweets_by_group/pessimism1.csv\")\n",
    "df_sad = pd.read_csv(\"ranked_tweets_by_group/sadness1.csv\")\n",
    "df_surprise = pd.read_csv(\"ranked_tweets_by_group/surprise1.csv\")\n",
    "df_trust = pd.read_csv(\"ranked_tweets_by_group/trust1.csv\")"
   ]
  },
  {
   "cell_type": "code",
   "execution_count": 52,
   "metadata": {},
   "outputs": [
    {
     "data": {
      "text/html": [
       "<div>\n",
       "<style scoped>\n",
       "    .dataframe tbody tr th:only-of-type {\n",
       "        vertical-align: middle;\n",
       "    }\n",
       "\n",
       "    .dataframe tbody tr th {\n",
       "        vertical-align: top;\n",
       "    }\n",
       "\n",
       "    .dataframe thead th {\n",
       "        text-align: right;\n",
       "    }\n",
       "</style>\n",
       "<table border=\"1\" class=\"dataframe\">\n",
       "  <thead>\n",
       "    <tr style=\"text-align: right;\">\n",
       "      <th></th>\n",
       "      <th>Tweet</th>\n",
       "      <th>anger</th>\n",
       "    </tr>\n",
       "  </thead>\n",
       "  <tbody>\n",
       "    <tr>\n",
       "      <th>0</th>\n",
       "      <td>When you want to say something so bad but can'...</td>\n",
       "      <td>1</td>\n",
       "    </tr>\n",
       "    <tr>\n",
       "      <th>1</th>\n",
       "      <td>People are hurt and angry and it's hard to kno...</td>\n",
       "      <td>1</td>\n",
       "    </tr>\n",
       "    <tr>\n",
       "      <th>2</th>\n",
       "      <td>this is so absurd I could laugh right now if ...</td>\n",
       "      <td>1</td>\n",
       "    </tr>\n",
       "    <tr>\n",
       "      <th>3</th>\n",
       "      <td>In  fact  sometimes i don't get furious at peo...</td>\n",
       "      <td>1</td>\n",
       "    </tr>\n",
       "    <tr>\n",
       "      <th>4</th>\n",
       "      <td>I'm not used to pretty girls that use curse wo...</td>\n",
       "      <td>1</td>\n",
       "    </tr>\n",
       "  </tbody>\n",
       "</table>\n",
       "</div>"
      ],
      "text/plain": [
       "                                               Tweet  anger\n",
       "0  When you want to say something so bad but can'...      1\n",
       "1  People are hurt and angry and it's hard to kno...      1\n",
       "2   this is so absurd I could laugh right now if ...      1\n",
       "3  In  fact  sometimes i don't get furious at peo...      1\n",
       "4  I'm not used to pretty girls that use curse wo...      1"
      ]
     },
     "execution_count": 52,
     "metadata": {},
     "output_type": "execute_result"
    }
   ],
   "source": [
    "df_anger.head()"
   ]
  },
  {
   "cell_type": "code",
   "execution_count": 55,
   "metadata": {},
   "outputs": [],
   "source": [
    "anger = df_anger.Tweet.tolist()\n",
    "anticipation = df_antic.Tweet.tolist()\n",
    "love = df_love.Tweet.tolist()\n",
    "joy = df_joy.Tweet.tolist()\n",
    "optimism = df_optimism.Tweet.tolist()\n",
    "pessimism = df_pessimism.Tweet.tolist()\n",
    "disgust = df_disgust.Tweet.tolist()\n",
    "fear = df_fear.Tweet.tolist()\n",
    "sadness = df_sad.Tweet.tolist()\n",
    "surprise = df_surprise.Tweet.tolist()\n",
    "trust = df_trust.Tweet.tolist()"
   ]
  },
  {
   "cell_type": "code",
   "execution_count": 67,
   "metadata": {},
   "outputs": [],
   "source": [
    "emotion_dict = {'anger': anger,\n",
    "         'anticipation':anticipation,\n",
    "         'disgust':disgust,\n",
    "         'fear':fear,\n",
    "         'joy':joy,\n",
    "         'love':love,\n",
    "         'optimism':optimism,\n",
    "         'pessimism':pessimism,\n",
    "         'sadness':sadness,\n",
    "         'surprise':surprise,\n",
    "         'trust':trust}"
   ]
  },
  {
   "cell_type": "code",
   "execution_count": 56,
   "metadata": {},
   "outputs": [
    {
     "data": {
      "text/plain": [
       "1272"
      ]
     },
     "execution_count": 56,
     "metadata": {},
     "output_type": "execute_result"
    }
   ],
   "source": [
    "len(anger)"
   ]
  },
  {
   "cell_type": "code",
   "execution_count": 68,
   "metadata": {},
   "outputs": [],
   "source": [
    "import itertools\n",
    "comb = itertools.combinations(emotions, 2)"
   ]
  },
  {
   "cell_type": "code",
   "execution_count": 69,
   "metadata": {},
   "outputs": [],
   "source": [
    "overlap = {}\n",
    "for item in comb:\n",
    "    a = emotion_dict[item[0]]\n",
    "    b = emotion_dict[item[1]]\n",
    "    overlap[item] = len(set(a).intersection(b))"
   ]
  },
  {
   "cell_type": "code",
   "execution_count": 70,
   "metadata": {},
   "outputs": [
    {
     "data": {
      "text/plain": [
       "55"
      ]
     },
     "execution_count": 70,
     "metadata": {},
     "output_type": "execute_result"
    }
   ],
   "source": [
    "len(overlap)"
   ]
  },
  {
   "cell_type": "code",
   "execution_count": 71,
   "metadata": {},
   "outputs": [],
   "source": [
    "import operator\n",
    "sorted_overlap = sorted(overlap.items(), key=operator.itemgetter(1))"
   ]
  },
  {
   "cell_type": "code",
   "execution_count": 72,
   "metadata": {
    "scrolled": true
   },
   "outputs": [
    {
     "data": {
      "text/plain": [
       "[(('pessimism', 'trust'), 2),\n",
       " (('love', 'pessimism'), 4),\n",
       " (('disgust', 'love'), 7),\n",
       " (('surprise', 'trust'), 8),\n",
       " (('anger', 'love'), 9),\n",
       " (('love', 'surprise'), 10),\n",
       " (('pessimism', 'surprise'), 10),\n",
       " (('anger', 'trust'), 11),\n",
       " (('disgust', 'trust'), 11),\n",
       " (('fear', 'love'), 11),\n",
       " (('sadness', 'trust'), 12),\n",
       " (('fear', 'trust'), 13),\n",
       " (('joy', 'pessimism'), 20),\n",
       " (('love', 'sadness'), 23),\n",
       " (('fear', 'surprise'), 25),\n",
       " (('optimism', 'pessimism'), 27),\n",
       " (('anticipation', 'pessimism'), 28),\n",
       " (('sadness', 'surprise'), 31),\n",
       " (('anticipation', 'love'), 32),\n",
       " (('optimism', 'surprise'), 35),\n",
       " (('love', 'trust'), 37),\n",
       " (('anticipation', 'trust'), 40),\n",
       " (('anger', 'surprise'), 41),\n",
       " (('disgust', 'surprise'), 42),\n",
       " (('anticipation', 'surprise'), 44),\n",
       " (('joy', 'surprise'), 62),\n",
       " (('fear', 'joy'), 63),\n",
       " (('fear', 'optimism'), 69),\n",
       " (('anticipation', 'sadness'), 71),\n",
       " (('disgust', 'optimism'), 71),\n",
       " (('anticipation', 'fear'), 73),\n",
       " (('anger', 'anticipation'), 74),\n",
       " (('anger', 'optimism'), 79),\n",
       " (('anticipation', 'disgust'), 92),\n",
       " (('anger', 'joy'), 93),\n",
       " (('disgust', 'joy'), 98),\n",
       " (('optimism', 'sadness'), 99),\n",
       " (('fear', 'pessimism'), 110),\n",
       " (('joy', 'trust'), 115),\n",
       " (('anger', 'pessimism'), 117),\n",
       " (('joy', 'sadness'), 121),\n",
       " (('optimism', 'trust'), 143),\n",
       " (('anger', 'fear'), 152),\n",
       " (('disgust', 'pessimism'), 158),\n",
       " (('disgust', 'fear'), 180),\n",
       " (('fear', 'sadness'), 183),\n",
       " (('anticipation', 'optimism'), 195),\n",
       " (('anticipation', 'joy'), 199),\n",
       " (('love', 'optimism'), 234),\n",
       " (('pessimism', 'sadness'), 273),\n",
       " (('joy', 'love'), 327),\n",
       " (('anger', 'sadness'), 383),\n",
       " (('disgust', 'sadness'), 455),\n",
       " (('joy', 'optimism'), 704),\n",
       " (('anger', 'disgust'), 1009)]"
      ]
     },
     "execution_count": 72,
     "metadata": {},
     "output_type": "execute_result"
    }
   ],
   "source": [
    "sorted_overlap"
   ]
  },
  {
   "cell_type": "code",
   "execution_count": null,
   "metadata": {},
   "outputs": [],
   "source": []
  }
 ],
 "metadata": {
  "kernelspec": {
   "display_name": "Python 3",
   "language": "python",
   "name": "python3"
  },
  "language_info": {
   "codemirror_mode": {
    "name": "ipython",
    "version": 3
   },
   "file_extension": ".py",
   "mimetype": "text/x-python",
   "name": "python",
   "nbconvert_exporter": "python",
   "pygments_lexer": "ipython3",
   "version": "3.6.1"
  }
 },
 "nbformat": 4,
 "nbformat_minor": 2
}
